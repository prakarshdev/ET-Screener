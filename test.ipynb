{
 "cells": [
  {
   "cell_type": "code",
   "execution_count": 1,
   "metadata": {},
   "outputs": [
    {
     "name": "stdout",
     "output_type": "stream",
     "text": [
      "To retrieve IT stocks with a PE ratio over 20, you can use the following SQL query:\n",
      "\n",
      "```sql\n",
      "SELECT *\n",
      "FROM stocks\n",
      "WHERE sector = 'IT' AND pe_ratio > 20;\n",
      "```\n",
      "\n",
      "Make sure to replace `stocks` with the actual name of your table and adjust the column names if they differ.\n"
     ]
    }
   ],
   "source": [
    "import openai\n",
    "import os\n",
    "\n",
    "AZURE_OPENAI_API_KEY = os.getenv(\"AZURE_OPENAI_API_KEY\")\n",
    "AZURE_OPENAI_ENDPOINT = os.getenv(\"AZURE_OPENAI_ENDPOINT\")\n",
    "AZURE_OPENAI_API_VERSION = os.getenv(\"AZURE_OPENAI_API_VERSION\")\n",
    "AZURE_OPENAI_DEPLOYMENT_NAME = os.getenv(\"AZURE_OPENAI_DEPLOYMENT_NAME\")\n",
    "\n",
    "client = openai.AzureOpenAI(\n",
    "            api_key=AZURE_OPENAI_API_KEY,\n",
    "            api_version=AZURE_OPENAI_API_VERSION,\n",
    "            azure_endpoint=AZURE_OPENAI_ENDPOINT\n",
    "        )\n",
    "\n",
    "response = client.chat.completions.create(\n",
    "    model=AZURE_OPENAI_DEPLOYMENT_NAME,\n",
    "    messages=[\n",
    "        {\"role\": \"system\", \"content\": \"You are an AI assistant that translates natural language queries into SQL.\"},\n",
    "        {\"role\": \"user\", \"content\": \"IT stocks with PE ratio over 20\"}\n",
    "    ],\n",
    "    temperature=0.1,\n",
    "    max_tokens=150\n",
    ")\n",
    "\n",
    "print(response.choices[0].message.content)\n"
   ]
  },
  {
   "cell_type": "code",
   "execution_count": 1,
   "metadata": {},
   "outputs": [],
   "source": [
    "x=\"\"\"  \"High Gap %\" REAL,\n",
    "            \"1D Returns\" REAL,\n",
    "            \"Rel Ret vs Nifty50 1D\" REAL,\n",
    "            \"Low Gap %\" REAL,\n",
    "            \"1W Returns\" REAL,\n",
    "            \"Rel Ret vs Nifty50 1W\" REAL,\n",
    "            \"Close Price 1W\" REAL,\n",
    "            \"1M Returns\" REAL,\n",
    "            \"Rel Ret vs Nifty50 1M\" REAL,\n",
    "            \"Close Price 1M\" REAL,\n",
    "            \"3M Returns\" REAL,\n",
    "            \"Rel Ret vs Nifty50 3M\" REAL,\n",
    "            \"Close Price 3M\" REAL,\n",
    "            \"6M Returns\" REAL,\n",
    "            \"Rel Ret vs Nifty50 6M\" REAL,\n",
    "            \"Half Yr Close\" REAL,\n",
    "            \"YTD Returns\" REAL,\n",
    "            \"Rel Ret vs Nifty50 YTD\" REAL,\n",
    "            \"1Y Close\" REAL,\n",
    "            \"1Y Returns\" REAL,\n",
    "            \"Rel Ret vs Nifty50 1Y\" REAL,\n",
    "            \"Day Open Rs\" REAL,\n",
    "            \"3Y Returns\" REAL,\n",
    "            \"Rel Ret vs Nifty50 3Y\" REAL,\n",
    "            \"Day Close Rs\" REAL,\n",
    "            \"5Y Returns\" REAL,\n",
    "            \"Rel Ret vs Nifty50 5Y\" REAL,\n",
    "            \"Day Low Rs\" REAL,\n",
    "            \"5Y CAGR Returns\" REAL,\n",
    "            \"Rel Ret vs BSE Sensex 1D\" REAL,\n",
    "            \"Day High Rs\" REAL,\n",
    "            \"3Y CAGR Returns\" REAL,\n",
    "            \"Rel Ret vs BSE Sensex 1W\" REAL,\n",
    "            \"Previous Day Close\" REAL,\n",
    "            \"Rel Ret vs BSE Sensex 1M\" REAL,\n",
    "            \"Previous Day Low\" REAL,\n",
    "            \"Rel Ret vs BSE Sensex 3M\" REAL,\n",
    "            \"Previous Day High\" REAL,\n",
    "            \"Rel Ret vs BSE Sensex 6M\" REAL,\n",
    "            \"1M High\" REAL,\n",
    "            \"Rel Ret vs BSE Sensex YTD\" REAL,\n",
    "            \"1M Low\" REAL,\n",
    "            \"Rel Ret vs BSE Sensex 1Y\" REAL,\n",
    "            \"3M High\" REAL,\n",
    "            \"Rel Ret vs BSE Sensex 3Y\" REAL,\n",
    "            \"3M Low\" REAL,\n",
    "            \"Rel Ret vs BSE Sensex 5Y\" REAL,\n",
    "            \"6M High\" REAL,\n",
    "            \"Rel Ret vs NiftyIT 1D\" REAL,\n",
    "            \"6M Low\" REAL,\n",
    "            \"Rel Ret vs NiftyIT 1W\" REAL,\n",
    "            \"Current Price\" REAL,\n",
    "            \"Rel Ret vs NiftyIT 1M\" REAL,\n",
    "            \"Rel Ret vs NiftyIT 3M\" REAL,\n",
    "            \"Rel Ret vs NiftyIT 6M\" REAL,\n",
    "            \"Rel Ret vs NiftyIT YTD\" REAL,\n",
    "            \"Rel Ret vs NiftyIT 1Y\" REAL,\n",
    "            \"Rel Ret vs NiftyIT 3Y\" REAL,\n",
    "            \"Rel Ret vs NiftyIT 5Y\" REAL,\n",
    "            \"Rel Ret vs NiftyBank 1D\" REAL,\n",
    "            \"Rel Ret vs NiftyBank 1W\" REAL,\n",
    "            \"Rel Ret vs NiftyBank 1M\" REAL,\n",
    "            \"Rel Ret vs NiftyBank 3M\" REAL,\n",
    "            \"Rel Ret vs NiftyBank 6M\" REAL,\n",
    "            \"Rel Ret vs NiftyBank YTD\" REAL,\n",
    "            \"Rel Ret vs NiftyBank 1Y\" REAL,\n",
    "            \"Rel Ret vs NiftyBank 3Y\" REAL,\n",
    "            \"Rel Ret vs NiftyBank 5Y\" REAL,\n",
    "            \"Rel Ret vs BSE 500 1D\" REAL,\n",
    "            \"Rel Ret vs BSE 500 1W\" REAL,\n",
    "            \"Rel Ret vs BSE 500 1M\" REAL,\n",
    "            \"Rel Ret vs BSE 500 3M\" REAL,\n",
    "            \"Rel Ret vs BSE 500 6M\" REAL,\n",
    "            \"Rel Ret vs BSE 500 YTD\" REAL,\n",
    "            \"Rel Ret vs BSE 500 1Y\" REAL,\n",
    "            \"Rel Ret vs BSE 500 3Y\" REAL,\n",
    "            \"Rel Ret vs BSE 500 5Y\" REAL,\n",
    "            \"Rel Ret vs Nifty Smallcap250 1D\" REAL,\n",
    "            \"Rel Ret vs Nifty Smallcap250 1W\" REAL,\n",
    "            \"Rel Ret vs Nifty Smallcap250 1M\" REAL,\n",
    "            \"Rel Ret vs Nifty Smallcap250 3M\" REAL,\n",
    "            \"Rel Ret vs Nifty Smallcap250 6M\" REAL,\n",
    "            \"Rel Ret vs Nifty Smallcap250 YTD\" REAL,\n",
    "            \"Rel Ret vs Nifty Smallcap250 1Y\" REAL,\n",
    "            \"Rel Ret vs Nifty Smallcap250 3Y\" REAL,\n",
    "            \"Rel Ret vs Nifty Smallcap250 5Y\" REAL,\n",
    "            \"Rel Ret vs Nifty Midcap100 1D\" REAL,\n",
    "            \"Rel Ret vs Nifty Midcap100 1W\" REAL,\n",
    "            \"Rel Ret vs Nifty Midcap100 1M\" REAL,\n",
    "            \"Rel Ret vs Nifty Midcap100 3M\" REAL,\n",
    "            \"Rel Ret vs Nifty Midcap100 6M\" REAL,\n",
    "            \"Rel Ret vs Nifty Midcap100 YTD\" REAL,\n",
    "            \"Rel Ret vs Nifty Midcap100 1Y\" REAL,\n",
    "            \"Rel Ret vs Nifty Midcap100 3Y\" REAL,\n",
    "            \"Rel Ret vs Nifty Midcap100 5Y\" REAL\"\"\""
   ]
  },
  {
   "cell_type": "code",
   "execution_count": null,
   "metadata": {},
   "outputs": [
    {
     "data": {
      "text/plain": [
       "'  \"High Gap %\",\"1D Returns\",\"Rel Ret vs Nifty50 1D\",\"Low Gap %\",\"1W Returns\",\"Rel Ret vs Nifty50 1W\",\"Close Price 1W\",\"1M Returns\",\"Rel Ret vs Nifty50 1M\",\"Close Price 1M\",\"3M Returns\",\"Rel Ret vs Nifty50 3M\",\"Close Price 3M\",\"6M Returns\",\"Rel Ret vs Nifty50 6M\",\"Half Yr Close\",\"YTD Returns\",\"Rel Ret vs Nifty50 YTD\",\"1Y Close\",\"1Y Returns\",\"Rel Ret vs Nifty50 1Y\",\"Day Open Rs\",\"3Y Returns\",\"Rel Ret vs Nifty50 3Y\",\"Day Close Rs\",\"5Y Returns\",\"Rel Ret vs Nifty50 5Y\",\"Day Low Rs\",\"5Y CAGR Returns\",\"Rel Ret vs BSE Sensex 1D\",\"Day High Rs\",\"3Y CAGR Returns\",\"Rel Ret vs BSE Sensex 1W\",\"Previous Day Close\",\"Rel Ret vs BSE Sensex 1M\",\"Previous Day Low\",\"Rel Ret vs BSE Sensex 3M\",\"Previous Day High\",\"Rel Ret vs BSE Sensex 6M\",\"1M High\",\"Rel Ret vs BSE Sensex YTD\",\"1M Low\",\"Rel Ret vs BSE Sensex 1Y\",\"3M High\",\"Rel Ret vs BSE Sensex 3Y\",\"3M Low\",\"Rel Ret vs BSE Sensex 5Y\",\"6M High\",\"Rel Ret vs NiftyIT 1D\",\"6M Low\",\"Rel Ret vs NiftyIT 1W\",\"Current Price\",\"Rel Ret vs NiftyIT 1M\",\"Rel Ret vs NiftyIT 3M\",\"Rel Ret vs NiftyIT 6M\",\"Rel Ret vs NiftyIT YTD\",\"Rel Ret vs NiftyIT 1Y\",\"Rel Ret vs NiftyIT 3Y\",\"Rel Ret vs NiftyIT 5Y\",\"Rel Ret vs NiftyBank 1D\",\"Rel Ret vs NiftyBank 1W\",\"Rel Ret vs NiftyBank 1M\",\"Rel Ret vs NiftyBank 3M\",\"Rel Ret vs NiftyBank 6M\",\"Rel Ret vs NiftyBank YTD\",\"Rel Ret vs NiftyBank 1Y\",\"Rel Ret vs NiftyBank 3Y\",\"Rel Ret vs NiftyBank 5Y\",\"Rel Ret vs BSE 500 1D\",\"Rel Ret vs BSE 500 1W\",\"Rel Ret vs BSE 500 1M\",\"Rel Ret vs BSE 500 3M\",\"Rel Ret vs BSE 500 6M\",\"Rel Ret vs BSE 500 YTD\",\"Rel Ret vs BSE 500 1Y\",\"Rel Ret vs BSE 500 3Y\",\"Rel Ret vs BSE 500 5Y\",\"Rel Ret vs Nifty Smallcap250 1D\",\"Rel Ret vs Nifty Smallcap250 1W\",\"Rel Ret vs Nifty Smallcap250 1M\",\"Rel Ret vs Nifty Smallcap250 3M\",\"Rel Ret vs Nifty Smallcap250 6M\",\"Rel Ret vs Nifty Smallcap250 YTD\",\"Rel Ret vs Nifty Smallcap250 1Y\",\"Rel Ret vs Nifty Smallcap250 3Y\",\"Rel Ret vs Nifty Smallcap250 5Y\",\"Rel Ret vs Nifty Midcap100 1D\",\"Rel Ret vs Nifty Midcap100 1W\",\"Rel Ret vs Nifty Midcap100 1M\",\"Rel Ret vs Nifty Midcap100 3M\",\"Rel Ret vs Nifty Midcap100 6M\",\"Rel Ret vs Nifty Midcap100 YTD\",\"Rel Ret vs Nifty Midcap100 1Y\",\"Rel Ret vs Nifty Midcap100 3Y\",\"Rel Ret vs Nifty Midcap100 5Y\"'"
      ]
     },
     "execution_count": 8,
     "metadata": {},
     "output_type": "execute_result"
    },
    {
     "ename": "",
     "evalue": "",
     "output_type": "error",
     "traceback": [
      "\u001b[1;31mThe Kernel crashed while executing code in the current cell or a previous cell. \n",
      "\u001b[1;31mPlease review the code in the cell(s) to identify a possible cause of the failure. \n",
      "\u001b[1;31mClick <a href='https://aka.ms/vscodeJupyterKernelCrash'>here</a> for more info. \n",
      "\u001b[1;31mView Jupyter <a href='command:jupyter.viewOutput'>log</a> for further details."
     ]
    }
   ],
   "source": [
    "x=x.replace(\"   \",\"\")\n",
    "x"
   ]
  },
  {
   "cell_type": "code",
   "execution_count": null,
   "metadata": {},
   "outputs": [],
   "source": []
  }
 ],
 "metadata": {
  "kernelspec": {
   "display_name": ".venv",
   "language": "python",
   "name": "python3"
  },
  "language_info": {
   "codemirror_mode": {
    "name": "ipython",
    "version": 3
   },
   "file_extension": ".py",
   "mimetype": "text/x-python",
   "name": "python",
   "nbconvert_exporter": "python",
   "pygments_lexer": "ipython3",
   "version": "3.11.3"
  }
 },
 "nbformat": 4,
 "nbformat_minor": 2
}
